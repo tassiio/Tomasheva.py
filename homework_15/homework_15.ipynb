{
 "cells": [
  {
   "cell_type": "markdown",
   "id": "b2f8acb9",
   "metadata": {},
   "source": [
    "# 1. Code review"
   ]
  },
  {
   "cell_type": "code",
   "execution_count": 8,
   "id": "f3d30dfe",
   "metadata": {},
   "outputs": [
    {
     "name": "stdout",
     "output_type": "stream",
     "text": [
      "[[1, 23], [2, 24], [3, 22]]\n",
      "[['biology, swimming'], ['math', 'computer games', 'running'], ['languages', 'health food']] \n",
      " 20\n"
     ]
    }
   ],
   "source": [
    "students = {\n",
    "    1: {\n",
    "        'name': 'Bob',\n",
    "        'surname': 'Vazovski',\n",
    "        'age': 23,\n",
    "        'interests': ['biology, swimming']\n",
    "    },\n",
    "    2: {\n",
    "        'name': 'Rob',\n",
    "        'surname': 'Stepanov',\n",
    "        'age': 24,\n",
    "        'interests': ['math', 'computer games', 'running']\n",
    "    },\n",
    "    3: {\n",
    "        'name': 'Alexander',\n",
    "        'surname': 'Krug',\n",
    "        'age': 22,\n",
    "        'interests': ['languages', 'health food']\n",
    "    }\n",
    "}\n",
    "\n",
    "\n",
    "def interests_and_length(dictionary):\n",
    "    interests = []\n",
    "    surnames = []\n",
    "    for i in dictionary:\n",
    "        interests.append(dictionary[i]['interests'])\n",
    "        surname = list(dictionary[i]['surname'])\n",
    "        for k in range(len(surname)):\n",
    "            surnames.append(surname[k])\n",
    "    length = 0\n",
    "    for i in range(len(surnames)):\n",
    "        length += 1\n",
    "    return interests, length\n",
    "\n",
    "\n",
    "pairs = [[0] * 2 for i in range(3)]\n",
    "\n",
    "for key in students:\n",
    "    pairs[key - 1][0] = key\n",
    "    pairs[key - 1][1] = students[key]['age']\n",
    "print(pairs)\n",
    "\n",
    "my_lst = interests_and_length(students)[0]\n",
    "sum_length = interests_and_length(students)[1]\n",
    "print(my_lst, '\\n', sum_length)\n"
   ]
  },
  {
   "cell_type": "markdown",
   "id": "a05ab2cf",
   "metadata": {},
   "source": [
    "# 2. Multipurpose programm"
   ]
  },
  {
   "cell_type": "code",
   "execution_count": 1,
   "id": "49acc1a6",
   "metadata": {},
   "outputs": [
    {
     "name": "stdout",
     "output_type": "stream",
     "text": [
      "['one - prime', 'two - prime', 'three - prime', 'five - prime']\n"
     ]
    }
   ],
   "source": [
    "obj = {0: \"zero\", 1: \"one - prime\", 2: \"two - prime\", 3: \"three - prime\", 4: \"four\", 5: \"five - prime\"}\n",
    "# (0, 1, 2, 3, 4, 5, 6, 7, 8, 9)\n",
    "# \"0123456789\"\n",
    "# [0, 1, 2, 3, 4, 5, 6, 7, 8, 9, 10, 11]\n",
    "\n",
    "\n",
    "def is_prime(numb):\n",
    "    if numb == 2:\n",
    "        return True\n",
    "    if numb % 2 == 0:\n",
    "        return False\n",
    "    flag = True\n",
    "    for i in range(3, int(numb ** 0.5) + 2, 2):\n",
    "        if numb % i == 0:\n",
    "            flag = False\n",
    "    return flag\n",
    "\n",
    "\n",
    "def with_prime_index(ob):\n",
    "    return [ob[i] for i in range(len(obj)) if is_prime(i)]\n",
    "\n",
    "\n",
    "elems = with_prime_index(obj)\n",
    "print(elems)\n"
   ]
  },
  {
   "cell_type": "markdown",
   "id": "e91ad413",
   "metadata": {},
   "source": [
    "# 3. Function"
   ]
  },
  {
   "cell_type": "code",
   "execution_count": 6,
   "id": "4be912cc",
   "metadata": {},
   "outputs": [
    {
     "name": "stdout",
     "output_type": "stream",
     "text": [
      "Enter elements in a line without spaces: abcdefabgak\n",
      "What element should be found? a\n",
      "('a', 'b', 'c', 'd', 'e', 'f', 'a')\n"
     ]
    }
   ],
   "source": [
    "tupple = tuple(input(\"Enter elements in a line without spaces: \"))\n",
    "elem = input(\"What element should be found? \")\n",
    "\n",
    "\n",
    "def search(tuppple, element):\n",
    "    lst = list(tuppple)\n",
    "    if element not in tuppple:\n",
    "        new_tuppple = ()\n",
    "        return new_tuppple\n",
    "    if tuppple.count(element) == 1:\n",
    "        new_tuppple = tuple(lst[i] for i in range(tuppple.index(elem), len(tuppple)))\n",
    "        return new_tuppple\n",
    "    else:\n",
    "        counter = 0\n",
    "        for i in range(len(tuppple)):\n",
    "            if tuppple[i] == element:\n",
    "                counter += 1\n",
    "                if counter == 2:\n",
    "                    new_tuppple = tuple(lst[i] for i in range(tuppple.index(elem), i + 1))\n",
    "                    return new_tuppple\n",
    "\n",
    "\n",
    "print(search(tupple, elem))\n"
   ]
  },
  {
   "cell_type": "markdown",
   "id": "6f3c0507",
   "metadata": {},
   "source": [
    "# 4. Players"
   ]
  },
  {
   "cell_type": "code",
   "execution_count": 2,
   "id": "dd30617b",
   "metadata": {},
   "outputs": [
    {
     "name": "stdout",
     "output_type": "stream",
     "text": [
      "[('Ivan', 'Volkin', 10, 5, 13), ('Bob', 'Robbin', 7, 5, 14), ('Rob', 'Bobbin', 12, 8, 2)]\n"
     ]
    }
   ],
   "source": [
    "players = {\n",
    "    (\"Ivan\", \"Volkin\"): (10, 5, 13),\n",
    "    (\"Bob\", \"Robbin\"): (7, 5, 14),\n",
    "    (\"Rob\", \"Bobbin\"): (12, 8, 2)\n",
    "}\n",
    "\n",
    "total = []\n",
    "keys_values_list = []\n",
    "\n",
    "for key in players:\n",
    "    keys_values_list = list(key)\n",
    "    for i in range(len(list(players[key]))):\n",
    "        keys_values_list.append(list(players[key])[i])\n",
    "    total.append(tuple(keys_values_list))\n",
    "    \n",
    "print(total)"
   ]
  },
  {
   "cell_type": "markdown",
   "id": "b11488a2",
   "metadata": {},
   "source": [
    "# 5. The family"
   ]
  },
  {
   "cell_type": "code",
   "execution_count": 14,
   "id": "d41c9f6f",
   "metadata": {},
   "outputs": [
    {
     "name": "stdout",
     "output_type": "stream",
     "text": [
      "Enter a required surname: sidorova\n",
      "Sidorov   Nikita   35\n",
      "Sidorova   Alina   34\n",
      "Sidorov   Pavel   10\n"
     ]
    }
   ],
   "source": [
    "people = {\n",
    "    (\"Sidorov\", \"Nikita\"): 35,\n",
    "    (\"Sidorova\", \"Alina\"): 34,\n",
    "    (\"Sidorov\", \"Pavel\"): 10,\n",
    "    (\"Petrov\", \"Ivan\"): 25,\n",
    "    (\"Petrova\", \"Elena\"): 23,\n",
    "    (\"Gromyko\", \"Egor\"): 42,\n",
    "    (\"Gromyko\", \"Anna\"): 37,\n",
    "    (\"Gromyko\", \"Alexandra\"): 17\n",
    "}\n",
    "\n",
    "surname = input(\"Enter a required surname: \").lower()\n",
    "total = []\n",
    "keys_values_list = []\n",
    "\n",
    "for key in people:\n",
    "    lst_surname = list(surname)\n",
    "    lst_surname.pop(len(lst_surname) - 1)\n",
    "    male_surname = ''.join(lst_surname)\n",
    "    if key[0].lower() == surname or key[0].lower() == surname + \"a\" or key[0].lower() == str(male_surname):\n",
    "        keys_values_list = list(key)\n",
    "        keys_values_list.append(people[key])\n",
    "        total.append(keys_values_list)\n",
    "\n",
    "for i in range(len(total)):\n",
    "    print(total[i][0], ' ', total[i][1], ' ', total[i][2])\n"
   ]
  },
  {
   "cell_type": "markdown",
   "id": "dd73b011",
   "metadata": {},
   "source": [
    "# 6. Pairs"
   ]
  },
  {
   "cell_type": "code",
   "execution_count": 7,
   "id": "a02bebe2",
   "metadata": {},
   "outputs": [
    {
     "name": "stdout",
     "output_type": "stream",
     "text": [
      "[(0, 1), (2, 3), (4, 5), (6, 7), (8, 9)]\n"
     ]
    }
   ],
   "source": [
    "numbers = [0, 1, 2, 3, 4, 5, 6, 7, 8, 9]\n",
    "\n",
    "'''\n",
    "def pairs(obj):\n",
    "    new_list = []\n",
    "    for i in range(0, len(obj) - 1, 2):\n",
    "        new_list.append(tuple([obj[i], obj[i + 1]]))\n",
    "    return new_list\n",
    "'''\n",
    "\n",
    "# print(pairs(numbers))\n",
    "\n",
    "new_list = [tuple([numbers[i], numbers[i + 1]]) for i in range(0, len(numbers) - 1, 2)]\n",
    "print(new_list)\n"
   ]
  },
  {
   "cell_type": "markdown",
   "id": "09825d19",
   "metadata": {},
   "source": [
    "# 7. Sort function"
   ]
  },
  {
   "cell_type": "code",
   "execution_count": 20,
   "id": "230a2f82",
   "metadata": {},
   "outputs": [
    {
     "name": "stdout",
     "output_type": "stream",
     "text": [
      "Enter elements of the tuple: 5,6,7,3,6,2,\n",
      "(5, 6, 7, 3, 6, 2)\n",
      "(2, 3, 5, 6, 6, 7)\n"
     ]
    }
   ],
   "source": [
    "tupple = eval(input(\"Enter elements of the tuple: \"))\n",
    "print(tupple)\n",
    "\n",
    "\n",
    "def sort(tuppple):\n",
    "    if all(isinstance(i, int) for i in tuppple):\n",
    "        return tuple(sorted(tuppple))\n",
    "    else:\n",
    "        return tuppple\n",
    "        \n",
    "        \n",
    "print(sort(tupple))\n"
   ]
  },
  {
   "cell_type": "markdown",
   "id": "6a5fec66",
   "metadata": {},
   "source": [
    "## 8. Contacts 3"
   ]
  },
  {
   "cell_type": "code",
   "execution_count": 18,
   "id": "82eaff60",
   "metadata": {},
   "outputs": [
    {
     "name": "stdout",
     "output_type": "stream",
     "text": [
      "What do you want to do? 0 - Add contact, 1 - Search \n",
      "0\n",
      "Enter the surname: Sidorov\n",
      "Enter the name: Pavel\n",
      "Enter the phone number: 33\n",
      "Sidorov Pavel\n",
      "This person is already here. Do you want to update the number? 0 - Yes, 1 - No \n",
      "1\n",
      "{('Sidorov', 'Nikita'): 3535335, ('Sidorova', 'Alina'): 3434434, ('Sidorov', 'Pavel'): 1041010, ('Petrov', 'Ivan'): 2222955, ('Petrova', 'Elena'): 2343533, ('Gromyko', 'Egor'): 4285756, ('Gromyko', 'Anna'): 3234247, ('Gromyko', 'Alexandra'): 1724534}\n",
      "Do you want to continue? 0 - Yes, 1 - No \n",
      "1\n"
     ]
    }
   ],
   "source": [
    "contacts = {\n",
    "    (\"Sidorov\", \"Nikita\"): 3535335,\n",
    "    (\"Sidorova\", \"Alina\"): 3434434,\n",
    "    (\"Sidorov\", \"Pavel\"): 1041010,\n",
    "    (\"Petrov\", \"Ivan\"): 2222955,\n",
    "    (\"Petrova\", \"Elena\"): 2343533,\n",
    "    (\"Gromyko\", \"Egor\"): 4285756,\n",
    "    (\"Gromyko\", \"Anna\"): 3234247,\n",
    "    (\"Gromyko\", \"Alexandra\"): 1724534\n",
    "}\n",
    "\n",
    "\n",
    "def add_contact(surname, name, ph_numb, conttacts):\n",
    "    is_here = False\n",
    "    for key in conttacts:\n",
    "        if surname.lower() == key[0].lower() and name.lower() == key[1].lower():\n",
    "            is_here = True\n",
    "    print(surname, name)\n",
    "    if is_here:\n",
    "        update = int(input(\"This person is already here. Do you want to update the number? 0 - Yes, 1 - No \\n\"))\n",
    "        if update == 0:\n",
    "            for key in conttacts:\n",
    "                if surname.lower() == key[0].lower() and name.lower() == key[1].lower():\n",
    "                    conttacts[key] = ph_numb\n",
    "            print(\"The number was successfully updated.\")\n",
    "            return conttacts\n",
    "        else:\n",
    "            return\n",
    "    else:\n",
    "        conttacts[(surname, name)] = ph_numb\n",
    "        return conttacts\n",
    "\n",
    "\n",
    "def search(surname, conttacts):\n",
    "    ppl_wth_surname = []\n",
    "    for key in conttacts:\n",
    "        if key[0].lower() == surname.lower():\n",
    "            ppl_wth_surname.append([key, conttacts[key]])\n",
    "    if len(ppl_wth_surname) != 0:\n",
    "        return ppl_wth_surname\n",
    "    else:\n",
    "        return \"Sorry, there are no people with such surname\"\n",
    "\n",
    "\n",
    "flag = True\n",
    "while flag:\n",
    "    action = int(input(\"What do you want to do? 0 - Add contact, 1 - Search \\n\"))\n",
    "    if action == 0:\n",
    "        c_surname = input(\"Enter the surname: \")\n",
    "        c_name = input(\"Enter the name: \")\n",
    "        c_ph_numb = input(\"Enter the phone number: \")\n",
    "        add_contact(c_surname, c_name, c_ph_numb, contacts)\n",
    "        print(contacts)\n",
    "    else:\n",
    "        c_surname = input(\"Enter the surname: \")\n",
    "        print(search(c_surname, contacts))\n",
    "    next_step = int(input(\"Do you want to continue? 0 - Yes, 1 - No \\n\"))\n",
    "    if next_step == 1:\n",
    "        flag = False\n",
    "        "
   ]
  },
  {
   "cell_type": "markdown",
   "id": "5b49eafe",
   "metadata": {},
   "source": [
    "# 9. Competition protocol"
   ]
  },
  {
   "cell_type": "code",
   "execution_count": 12,
   "id": "b0d60543",
   "metadata": {
    "scrolled": true
   },
   "outputs": [
    {
     "name": "stdout",
     "output_type": "stream",
     "text": [
      "The amount of notes:\n",
      "9\n",
      "1 note: 69485 Jack\n",
      "2 note: 95715 qwerty\n",
      "3 note: 95715 Alex\n",
      "4 note: 83647 M\n",
      "5 note: 197128 qwerty\n",
      "6 note: 95715 Jack\n",
      "7 note: 93289 Alex\n",
      "8 note: 95715 Alex\n",
      "9 note: 95715 M\n",
      "1 place: qwerty ( 197128 )\n",
      "2 place: Alex ( 95715 )\n",
      "3 place: Jack ( 95715 )\n"
     ]
    }
   ],
   "source": [
    "import functools\n",
    "\n",
    "def who_is_the_best(max_one, max_two):\n",
    "    if max_one[0] == max_two[0]:\n",
    "        return max_two[1] - max_one[1]\n",
    "    else:\n",
    "        if max_one[0] > max_two[0]:\n",
    "            return -1\n",
    "        else:\n",
    "            return  1\n",
    "        \n",
    "        \n",
    "participants = dict()\n",
    "notes = int(input(\"The amount of notes:\\n\"))\n",
    "winners = [[0, 0, \"name\"], [0, 0, \"name\"], [0, 0, \"name\"]]\n",
    "       \n",
    "for i in range(notes):\n",
    "    participant = input(f'{i + 1} note: ').split()\n",
    "    participant[0] = int(participant[0])\n",
    "    if participant[1] in participants.keys(): \n",
    "        participants[participant[1]] += 1\n",
    "    else: \n",
    "        participants[participant[1]] = 1\n",
    "\n",
    "    participant.insert(1, participants[participant[1]])\n",
    "    winners.append(participant)\n",
    "    winners.sort(key=functools.cmp_to_key(who_is_the_best))\n",
    "    winners.pop()\n",
    "\n",
    "# print(winners)\n",
    "for i in range(3):\n",
    "    print(f'{i + 1} place:', winners[i][2], '(', winners[i][0], ')')"
   ]
  },
  {
   "cell_type": "markdown",
   "id": "279b67c7",
   "metadata": {},
   "source": [
    "# 10. Zip-function"
   ]
  },
  {
   "cell_type": "code",
   "execution_count": 44,
   "id": "2c51d54e",
   "metadata": {},
   "outputs": [
    {
     "name": "stdout",
     "output_type": "stream",
     "text": [
      "Enter any string: abcd\n",
      "Enter elements of the tuple: 1,2\n",
      "<generator object <genexpr> at 0x000001DCB938F300>\n",
      "('a', 1)\n",
      "('b', 2)\n"
     ]
    }
   ],
   "source": [
    "string = input(\"Enter any string: \")\n",
    "tupple = eval(input(\"Enter elements of the tuple: \"))\n",
    "length = min(len(string), len(tupple))\n",
    "\n",
    "my_zip =(tuple([string[i], tupple[i]]) for i in range(length))\n",
    "print(my_zip)\n",
    "for i in range(length):\n",
    "    print(next(my_zip))\n"
   ]
  }
 ],
 "metadata": {
  "kernelspec": {
   "display_name": "Python 3 (ipykernel)",
   "language": "python",
   "name": "python3"
  },
  "language_info": {
   "codemirror_mode": {
    "name": "ipython",
    "version": 3
   },
   "file_extension": ".py",
   "mimetype": "text/x-python",
   "name": "python",
   "nbconvert_exporter": "python",
   "pygments_lexer": "ipython3",
   "version": "3.10.2"
  }
 },
 "nbformat": 4,
 "nbformat_minor": 5
}
