{
 "cells": [
  {
   "cell_type": "markdown",
   "id": "4b019720",
   "metadata": {},
   "source": [
    "# 1. Challenge"
   ]
  },
  {
   "cell_type": "code",
   "execution_count": 7,
   "id": "d1b735c9",
   "metadata": {},
   "outputs": [
    {
     "name": "stdout",
     "output_type": "stream",
     "text": [
      "Enter any integer number:\n",
      "5\n",
      "1 2 3 4 5 "
     ]
    }
   ],
   "source": [
    "number = int(input(\"Enter any integer number:\\n\"))\n",
    "\n",
    "\n",
    "def entering(numb, i):\n",
    "    if i <= numb:\n",
    "        print(i, end=\" \")\n",
    "        i += 1\n",
    "        entering(numb, i)\n",
    "    else:\n",
    "        return\n",
    "\n",
    "\n",
    "entering(number, 1) "
   ]
  },
  {
   "cell_type": "markdown",
   "id": "0afd3679",
   "metadata": {},
   "source": [
    "# 2. Zip again"
   ]
  },
  {
   "cell_type": "code",
   "execution_count": 14,
   "id": "7793c9fa",
   "metadata": {},
   "outputs": [
    {
     "name": "stdout",
     "output_type": "stream",
     "text": [
      "('1', 1)\n",
      "('2', 'a,bc')\n",
      "('3', [[2, 3], 4])\n"
     ]
    }
   ],
   "source": [
    "first = '12345'\n",
    "second = [1, \"a,bc\", [[2,3],4]]\n",
    "# how {1: \"a\", 2: \"b\", 3: \"c\"}\n",
    "# ('Nastya', 2, 3, '5')\n",
    "\n",
    "\n",
    "def zip_func(first_obj, second_obj):\n",
    "    for i in range(min(len(first_obj), len(second_obj))):\n",
    "        print(tuple([first_obj[i], second_obj[i]])) \n",
    "\n",
    "\n",
    "zip_func(first, second)\n",
    "    "
   ]
  },
  {
   "cell_type": "markdown",
   "id": "24ab0426",
   "metadata": {},
   "source": [
    "# 3. Fibonacci"
   ]
  },
  {
   "cell_type": "code",
   "execution_count": 5,
   "id": "5ca5add0",
   "metadata": {},
   "outputs": [
    {
     "name": "stdout",
     "output_type": "stream",
     "text": [
      "Enter the position of the number in Fibonacci row:\n",
      "10\n",
      "55\n"
     ]
    }
   ],
   "source": [
    "position = int(input(\"Enter the position of the number in Fibonacci row:\\n\"))\n",
    "\n",
    "\n",
    "def fib(num):\n",
    "    if num == 1:\n",
    "        return 1\n",
    "    if num == 2:\n",
    "        return 1\n",
    "    return fib(num-2) + fib(num-1)\n",
    "\n",
    "\n",
    "print(fib(position))\n"
   ]
  },
  {
   "cell_type": "markdown",
   "id": "88ff23d9",
   "metadata": {},
   "source": [
    " # 4. Element search"
   ]
  },
  {
   "cell_type": "code",
   "execution_count": 3,
   "id": "4443bd9f",
   "metadata": {},
   "outputs": [
    {
     "name": "stdout",
     "output_type": "stream",
     "text": [
      "Enter your key: \n",
      "h2\n",
      "Do you want to enter the deepest level of search?\n",
      "No\n",
      "Enter the level: 2\n",
      "No key.\n"
     ]
    }
   ],
   "source": [
    "\n",
    "\n",
    "def search(web_site, key, level):\n",
    "    required_value = \"No key.\"\n",
    "    if key in web_site.keys():\n",
    "            required_value = web_site[key]\n",
    "            return required_value\n",
    "    if level > 1:\n",
    "        for next_level_element in web_site.values():\n",
    "            if isinstance(next_level_element, dict):\n",
    "                if next_level_element == key:\n",
    "                    required_value = next_level_element.values()\n",
    "                else:\n",
    "                    required_value = search(next_level_element, key, level - 1)\n",
    "                if required_value != \"No key.\":\n",
    "                    break  \n",
    "                 \n",
    "    return required_value\n",
    "                    \n",
    "               \n",
    "site = {\n",
    "    'html': {\n",
    "        'head': {\n",
    "            'title': 'Мой сайт'\n",
    "        },\n",
    "        'body': {\n",
    "            'h2': 'Здесь будет мой заголовок',\n",
    "            'div': 'Тут, наверное, какой-то блок',\n",
    "            'p': 'А вот здесь новый абзац'\n",
    "        }\n",
    "    }\n",
    "\n",
    "}\n",
    "        \n",
    "user_key = input(\"Enter your key: \\n\")\n",
    "print(\"Do you want to enter the deepest level of search?\")\n",
    "answer = input()\n",
    "user_level = 3\n",
    "if answer == \"Yes\":\n",
    "    user_level = int(input(\"Enter the level: \"))\n",
    "print(search(site, user_key, user_level))\n",
    "        "
   ]
  },
  {
   "cell_type": "markdown",
   "id": "6a80ffc0",
   "metadata": {},
   "source": [
    "# 5. Improved function"
   ]
  },
  {
   "cell_type": "code",
   "execution_count": 11,
   "id": "7a972ce3",
   "metadata": {},
   "outputs": [
    {
     "name": "stdout",
     "output_type": "stream",
     "text": [
      "Enter any integer (>=0) number:\n",
      "6\n",
      "[  1   1   2   6  24 120 720]\n",
      "7.134278705968646e-58\n"
     ]
    }
   ],
   "source": [
    "import numpy as np\n",
    "input_data = int(input(\"Enter any integer (>=0) number:\\n\"))\n",
    "\n",
    "\n",
    "def factorial(num, fact):\n",
    "    if num == 0:\n",
    "        fact[num] = 1\n",
    "        return fact[num]\n",
    "    else:\n",
    "        fact[num]= num * factorial(num - 1, fact)\n",
    "        return fact[num]\n",
    "\n",
    "\n",
    "def calculating_math_func(data):\n",
    "    return pow((data / pow(data, 3)), 10)\n",
    "\n",
    "factorials = np.zeros((input_data + 1,), dtype=int)\n",
    "factorial(input_data, factorials)\n",
    "print(factorials)\n",
    "print(calculating_math_func(factorials[input_data]))\n"
   ]
  },
  {
   "cell_type": "markdown",
   "id": "78b500ed",
   "metadata": {},
   "source": [
    "# 6. Copying"
   ]
  },
  {
   "cell_type": "code",
   "execution_count": 12,
   "id": "78a24d0a",
   "metadata": {},
   "outputs": [
    {
     "name": "stdout",
     "output_type": "stream",
     "text": [
      "Enter the amount of sites:\n",
      "2\n",
      "What phone do you sell?Iphone\n"
     ]
    },
    {
     "ename": "TypeError",
     "evalue": "'>' not supported between instances of 'str' and 'int'",
     "output_type": "error",
     "traceback": [
      "\u001b[1;31m---------------------------------------------------------------------------\u001b[0m",
      "\u001b[1;31mTypeError\u001b[0m                                 Traceback (most recent call last)",
      "Input \u001b[1;32mIn [12]\u001b[0m, in \u001b[0;36m<cell line: 35>\u001b[1;34m()\u001b[0m\n\u001b[0;32m     37\u001b[0m     key \u001b[38;5;241m=\u001b[39m {\u001b[38;5;124m'\u001b[39m\u001b[38;5;124mtitle\u001b[39m\u001b[38;5;124m'\u001b[39m: \u001b[38;5;124mf\u001b[39m\u001b[38;5;124m'\u001b[39m\u001b[38;5;124mКуплю/продам \u001b[39m\u001b[38;5;132;01m{\u001b[39;00mphone_name\u001b[38;5;132;01m}\u001b[39;00m\u001b[38;5;124m недорого\u001b[39m\u001b[38;5;124m'\u001b[39m, \u001b[38;5;124m'\u001b[39m\u001b[38;5;124mh2\u001b[39m\u001b[38;5;124m'\u001b[39m: \u001b[38;5;124mf\u001b[39m\u001b[38;5;124m'\u001b[39m\u001b[38;5;124mУ нас самая низкая цена на \u001b[39m\u001b[38;5;132;01m{\u001b[39;00mphone_name\u001b[38;5;132;01m}\u001b[39;00m\u001b[38;5;124m'\u001b[39m}\n\u001b[0;32m     38\u001b[0m     \u001b[38;5;28;01mfor\u001b[39;00m i \u001b[38;5;129;01min\u001b[39;00m key:\n\u001b[1;32m---> 39\u001b[0m         \u001b[43msearch\u001b[49m\u001b[43m(\u001b[49m\u001b[43msite\u001b[49m\u001b[43m,\u001b[49m\u001b[43m \u001b[49m\u001b[43mi\u001b[49m\u001b[43m,\u001b[49m\u001b[43m \u001b[49m\u001b[43mkey\u001b[49m\u001b[43m[\u001b[49m\u001b[43mi\u001b[49m\u001b[43m]\u001b[49m\u001b[43m)\u001b[49m\n\u001b[0;32m     41\u001b[0m     \u001b[38;5;28mprint\u001b[39m(\u001b[38;5;124mf\u001b[39m\u001b[38;5;124m'\u001b[39m\u001b[38;5;124mSite for \u001b[39m\u001b[38;5;132;01m{\u001b[39;00mphone_name\u001b[38;5;132;01m}\u001b[39;00m\u001b[38;5;124m:\u001b[39m\u001b[38;5;124m'\u001b[39m)\n\u001b[0;32m     43\u001b[0m \u001b[38;5;124;03m'''\u001b[39;00m\n\u001b[0;32m     44\u001b[0m \u001b[38;5;124;03mdef find_key(struct, key, meaning):\u001b[39;00m\n\u001b[0;32m     45\u001b[0m \u001b[38;5;124;03m    if key in struct:\u001b[39;00m\n\u001b[1;32m   (...)\u001b[0m\n\u001b[0;32m     64\u001b[0m \u001b[38;5;124;03m    print(site, '\\n')\u001b[39;00m\n\u001b[0;32m     65\u001b[0m \u001b[38;5;124;03m'''\u001b[39;00m\n",
      "Input \u001b[1;32mIn [12]\u001b[0m, in \u001b[0;36msearch\u001b[1;34m(web_site, key, level)\u001b[0m\n\u001b[0;32m     18\u001b[0m         required_value \u001b[38;5;241m=\u001b[39m web_site[key]\n\u001b[0;32m     19\u001b[0m         \u001b[38;5;28;01mreturn\u001b[39;00m required_value\n\u001b[1;32m---> 21\u001b[0m \u001b[38;5;28;01mif\u001b[39;00m \u001b[43mlevel\u001b[49m\u001b[43m \u001b[49m\u001b[38;5;241;43m>\u001b[39;49m\u001b[43m \u001b[49m\u001b[38;5;241;43m1\u001b[39;49m:\n\u001b[0;32m     22\u001b[0m     \u001b[38;5;28;01mfor\u001b[39;00m next_level_element \u001b[38;5;129;01min\u001b[39;00m web_site\u001b[38;5;241m.\u001b[39mvalues():\n\u001b[0;32m     23\u001b[0m         \u001b[38;5;28;01mif\u001b[39;00m \u001b[38;5;28misinstance\u001b[39m(next_level_element, \u001b[38;5;28mdict\u001b[39m):\n",
      "\u001b[1;31mTypeError\u001b[0m: '>' not supported between instances of 'str' and 'int'"
     ]
    }
   ],
   "source": [
    "site = {\n",
    "    'html': {\n",
    "        'head': {\n",
    "            'title': 'Куплю/продам телефон недорого'\n",
    "        },\n",
    "        'body': {\n",
    "            'h2': 'У нас самая низкая цена на iPhone',\n",
    "            'div': 'Купить',\n",
    "            'p': 'Продать'\n",
    "        }\n",
    "    }\n",
    "}\n",
    "\n",
    "\n",
    "def search(web_site, key, level):\n",
    "    required_value = \"No key.\"\n",
    "    if key in web_site.keys():\n",
    "            required_value = web_site[key]\n",
    "            return required_value\n",
    "    \n",
    "    if level > 1:\n",
    "        for next_level_element in web_site.values():\n",
    "            if isinstance(next_level_element, dict):\n",
    "                if next_level_element == key:\n",
    "                    required_value = next_level_element.values()\n",
    "                else:\n",
    "                    required_value = search(next_level_element, key, level - 1)\n",
    "                if required_value != \"No key.\":\n",
    "                    break  \n",
    "                 \n",
    "    return required_value\n",
    "\n",
    "\n",
    "amount_of_sites = int(input(\"Enter the amount of sites:\\n\"))\n",
    "for t in range(amount_of_sites):\n",
    "    phone_name = input(\"What phone do you sell?\")\n",
    "    key = {'title': f'Куплю/продам {phone_name} недорого', 'h2': f'У нас самая низкая цена на {phone_name}'}\n",
    "    for i in key:\n",
    "        search(site, i, key[i])\n",
    "        \n",
    "    print(f'Site for {phone_name}:')\n",
    "\n",
    "'''\n",
    "def find_key(struct, key, meaning):\n",
    "    if key in struct:\n",
    "        struct[key] = meaning\n",
    "        return site\n",
    "\n",
    "    for sub_struct in struct.values():\n",
    "        if isinstance(sub_struct, dict):\n",
    "            result = find_key(sub_struct, key, meaning)\n",
    "            if result:\n",
    "                return site\n",
    "\n",
    "\n",
    "number_sites = int(input('Сколько сайтов: '))\n",
    "for _ in range(number_sites):\n",
    "    product_name = input('Введите название продукта для нового сайта: ')\n",
    "    key = {'title': f'Куплю/продам {product_name} недорого', 'h2': f'У нас самая низкая цена на {product_name}'}\n",
    "    for i in key:\n",
    "        find_key(site, i, key[i])\n",
    "\n",
    "    print(f'Сайт для {product_name}:')\n",
    "    print(site, '\\n')\n",
    "'''\n",
    "\n"
   ]
  },
  {
   "cell_type": "markdown",
   "id": "f812711b",
   "metadata": {},
   "source": [
    "# 7. Improved sum"
   ]
  },
  {
   "cell_type": "code",
   "execution_count": 7,
   "id": "9290567d",
   "metadata": {},
   "outputs": [
    {
     "name": "stdout",
     "output_type": "stream",
     "text": [
      "15\n"
     ]
    }
   ],
   "source": [
    "def opening(lst, new_list = []):\n",
    "    if isinstance(lst, list):\n",
    "        for i in range(len(lst)):\n",
    "            opening(lst[i])\n",
    "    else:\n",
    "        new_list.append(lst)\n",
    "    return new_list\n",
    "\n",
    "\n",
    "def improved_sum(*obj):\n",
    "    summa = 0\n",
    "    obj = list(obj)\n",
    "    if isinstance(obj, list):\n",
    "        obj = opening(obj)\n",
    "    for i in obj:\n",
    "        summa += i\n",
    "    return summa\n",
    "\n",
    "\n",
    "print(improved_sum(1, 2, 3, 4, 5))\n",
    "    "
   ]
  },
  {
   "cell_type": "markdown",
   "id": "35c50f3e",
   "metadata": {},
   "source": [
    "# 8. List of lists"
   ]
  },
  {
   "cell_type": "code",
   "execution_count": 19,
   "id": "2bc058a3",
   "metadata": {},
   "outputs": [
    {
     "name": "stdout",
     "output_type": "stream",
     "text": [
      "[1, 2, 3, 4, 5, 6, 7, 8, 9, 10, 11, 12, 13, 14, 15, 16, 17, 18]\n"
     ]
    }
   ],
   "source": [
    "nice_list = [1, 2, [3, 4], [[5, 6, 7], [8, 9, 10]], [[11, 12, 13], [14, 15], [16, 17, 18]]]\n",
    "\n",
    "\n",
    "def opening(lst, new_list = []):\n",
    "    if isinstance(lst, list):\n",
    "        for i in range(len(lst)):\n",
    "            opening(lst[i])\n",
    "    else:\n",
    "        new_list.append(lst)\n",
    "    return new_list\n",
    "\n",
    "        \n",
    "print(opening(nice_list))\n"
   ]
  },
  {
   "cell_type": "markdown",
   "id": "002a4fcf",
   "metadata": {},
   "source": [
    "# 9. Tower of hanoi"
   ]
  },
  {
   "cell_type": "code",
   "execution_count": 2,
   "id": "31085101",
   "metadata": {},
   "outputs": [
    {
     "name": "stdout",
     "output_type": "stream",
     "text": [
      "Enter the number of layers of the tower of hanoi:\n",
      "2\n",
      "From 1 to 2.\n",
      "From 1 to 3.\n",
      "From 2 to 3.\n"
     ]
    }
   ],
   "source": [
    "\n",
    "\n",
    "def move(layers, start, finish):\n",
    "    if layers == 1:\n",
    "        print(f'From {start} to {finish}.')\n",
    "    else:\n",
    "        tmp = 6 - start - finish\n",
    "        move(layers - 1, start, tmp)\n",
    "        \n",
    "        print(f'From {start} to {finish}.')\n",
    "        move(layers - 1, tmp, finish)\n",
    "\n",
    "\n",
    "layers_amount = int(input(\"Enter the number of layers of the tower of hanoi:\\n\"))\n",
    "move(layers_amount, 1, 3)\n"
   ]
  }
 ],
 "metadata": {
  "kernelspec": {
   "display_name": "Python 3 (ipykernel)",
   "language": "python",
   "name": "python3"
  },
  "language_info": {
   "codemirror_mode": {
    "name": "ipython",
    "version": 3
   },
   "file_extension": ".py",
   "mimetype": "text/x-python",
   "name": "python",
   "nbconvert_exporter": "python",
   "pygments_lexer": "ipython3",
   "version": "3.10.2"
  }
 },
 "nbformat": 4,
 "nbformat_minor": 5
}
