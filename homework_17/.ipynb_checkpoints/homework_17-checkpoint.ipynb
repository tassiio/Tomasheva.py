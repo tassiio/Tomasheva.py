{
 "cells": [
  {
   "cell_type": "markdown",
   "id": "abec55bb",
   "metadata": {},
   "source": [
    "# 1. Sum"
   ]
  },
  {
   "cell_type": "code",
   "execution_count": 19,
   "id": "e9019500",
   "metadata": {
    "scrolled": true
   },
   "outputs": [
    {
     "name": "stdout",
     "output_type": "stream",
     "text": [
      "28\n"
     ]
    }
   ],
   "source": [
    "summa = 0\n",
    "with open('numbers.txt', 'r') as n:\n",
    "    for line in n:\n",
    "        if line != '\\n':\n",
    "            numbers = [int(line.split()[i]) for i in range(len(numbers))]\n",
    "            summa += sum(numbers)\n",
    "print(summa)\n"
   ]
  },
  {
   "cell_type": "markdown",
   "id": "d186c68e",
   "metadata": {},
   "source": [
    "# 2. Python zen"
   ]
  },
  {
   "cell_type": "code",
   "execution_count": 45,
   "id": "e959a78e",
   "metadata": {},
   "outputs": [
    {
     "name": "stdout",
     "output_type": "stream",
     "text": [
      "Namespaces are one honking great idea -- let's do more of those!\n",
      "\n",
      "If the implementation is easy to explain, it may be a good idea.\n",
      "\n",
      "If the implementation is hard to explain, it's a bad idea.\n",
      "\n",
      "Although never is often better than *right* now.\n",
      "\n",
      "Now is better than never.\n",
      "\n",
      "Although that way may not be obvious at first unless you're Dutch.\n",
      "\n",
      "There should be one-- and preferably only one --obvious way to do it.\n",
      "\n",
      "In the face of ambiguity, refuse the temptation to guess.\n",
      "\n",
      "Unless explicitly silenced.\n",
      "\n",
      "Errors should never pass silently.\n",
      "\n",
      "Although practicality beats purity.\n",
      "\n",
      "Special cases aren't special enough to break the rules.\n",
      "\n",
      "Readability counts.\n",
      "\n",
      "Sparse is better than dense.\n",
      "\n",
      "Flat is better than nested.\n",
      "\n",
      "Complex is better than complicated.\n",
      "\n",
      "Simple is better than complex.\n",
      "\n",
      "Explicit is better than implicit.\n",
      "\n",
      "Beautiful is better than ugly.\n",
      "\n"
     ]
    }
   ],
   "source": [
    "strings = []\n",
    "with open('zen.txt', 'r') as zen:\n",
    "    for line in zen:\n",
    "        strings.append(line)\n",
    "\n",
    "with open('zen_copy.txt', 'w') as cop:\n",
    "    for i in range(len(strings) - 1, -1, -1):\n",
    "        cop.write(strings[i])\n",
    "\n",
    "with open('zen_copy.txt', 'r') as cop:\n",
    "    for line in cop:\n",
    "        print(line)\n",
    "    "
   ]
  },
  {
   "cell_type": "markdown",
   "id": "8b482b3c",
   "metadata": {},
   "source": [
    "# 3. Python zen 2"
   ]
  },
  {
   "cell_type": "code",
   "execution_count": null,
   "id": "7e28b19d",
   "metadata": {},
   "outputs": [],
   "source": [
    "words = 0\n",
    "letters = 0\n",
    "strings = 0\n",
    "alphabet = 'abcdefghijklmnopqrstuvwxyz'\n",
    "letters_dict = dict()\n",
    "\n",
    "with open('zen.txt') as zen:\n",
    "    for line in zen:\n",
    "        strings += 1\n",
    "        line = line.lower()\n",
    "        words_list = line.split()\n",
    "        words += len(words_list)\n",
    "        for symbol in line:\n",
    "            if symbol in alphabet:\n",
    "                letters += 1\n",
    "                if symbol not in letters_dict.keys():\n",
    "                    letters_dict[symbol] = 1\n",
    "                else:\n",
    "                    letters_dict[symbol] += 1\n",
    "\n",
    "print(strings)\n",
    "print(words)\n",
    "print(letters)\n",
    "\n",
    "minimum = min(letters_dict.values())\n",
    "min_dict = dict()\n",
    "for key in letters_dict.keys():\n",
    "    if letters_dict[key] == minimum:\n",
    "        min_dict[key] = minimum\n",
    "# print(letters_dict)\n",
    "print('The rarest letters:', min_dict)\n"
   ]
  },
  {
   "cell_type": "markdown",
   "id": "5553f2e2",
   "metadata": {},
   "source": [
    "# 4. Files and folders"
   ]
  },
  {
   "cell_type": "code",
   "execution_count": 2,
   "id": "754ec734",
   "metadata": {},
   "outputs": [
    {
     "name": "stdout",
     "output_type": "stream",
     "text": [
      "Enter the path to any file or catalogue: \n",
      "..\n",
      "0 .ipynb_checkpoints\n",
      "1 homework_15.ipynb\n",
      "2 homework_16.ipynb\n",
      "3 homework_17\n",
      "Amount of things in ..: 4\n",
      "66735\n"
     ]
    }
   ],
   "source": [
    "import os\n",
    "path = input('Enter the path to any file or catalogue: \\n')\n",
    "all_things = os.listdir(path)\n",
    "size = 0\n",
    "\n",
    "for item in enumerate(all_things):\n",
    "    print(item[0], item[1])\n",
    "print(f'Amount of things in {path}:', len(all_things))\n",
    "\n",
    "for adress, subdirectories, file_names in os.walk(path):\n",
    "    for file_name in file_names:\n",
    "        size += os.path.getsize(os.path.join(adress, file_name))\n",
    "\n",
    "print(size)\n"
   ]
  },
  {
   "cell_type": "markdown",
   "id": "4337e90a",
   "metadata": {},
   "source": [
    "# 5. Saving"
   ]
  },
  {
   "cell_type": "code",
   "execution_count": 10,
   "id": "57424852",
   "metadata": {},
   "outputs": [
    {
     "name": "stdout",
     "output_type": "stream",
     "text": [
      "Enter the string you want to save: \n",
      "lala\n",
      "Enter the path for saving (with spaces between folder names): \n",
      "new\n",
      "Enter the name of the file: \n",
      "my_doc\n",
      "new\n"
     ]
    }
   ],
   "source": [
    "import os\n",
    "import pathlib\n",
    "from pathlib import Path\n",
    "\n",
    "input_data = input(\"Enter the string you want to save: \\n\")\n",
    "path_text = input(\"Enter the path for saving (with spaces between folder names): \\n\").split()\n",
    "file_name = input(\"Enter the name of the file: \\n\")\n",
    "file_name = file_name + '.txt'\n",
    "\n",
    "path = Path(*path_text)\n",
    "print(*path_text)\n",
    "with open(file_name, 'w') as mf:\n",
    "    mf.write(input_data)\n",
    "# print(file_name)\n",
    "if not os.path.exists(os.path.join(path, file_name)):\n",
    "    os.replace(file_name, path)\n",
    "else:\n",
    "    answer = input('Do you want to overwrite the file?')\n",
    "    if answer == 'Yes':\n",
    "        os.replace(file_name, os.path.join(path, file_name))\n",
    "    else:\n",
    "        print(\"File wasn't overwritten.\")\n"
   ]
  },
  {
   "cell_type": "markdown",
   "id": "18c0626e",
   "metadata": {},
   "source": [
    "# 6. Paranoia"
   ]
  },
  {
   "cell_type": "code",
   "execution_count": 9,
   "id": "a12199ea",
   "metadata": {},
   "outputs": [
    {
     "name": "stdout",
     "output_type": "stream",
     "text": [
      "Ifmmp\n",
      "\n",
      "Jgnnq\n",
      "\n",
      "\n",
      "\n",
      "\n",
      "\n",
      "Mjqqt\n",
      "\n",
      "Nkrru\n",
      "\n"
     ]
    }
   ],
   "source": [
    "alphabet = 'abcdefghijklmnopqrstuvwxyz'\n",
    "length = len(alphabet)\n",
    "counter = 0\n",
    "with open('text.txt', 'r') as t:\n",
    "    with open('cipher_text.txt', 'w') as ct:\n",
    "        for line in t:\n",
    "            counter += 1\n",
    "            for symbol in line:\n",
    "                l_symbol = symbol.lower()\n",
    "                if l_symbol in alphabet:\n",
    "                    if alphabet.find(l_symbol) + counter > length:\n",
    "                        if symbol != l_symbol:\n",
    "                            ct.write(alphabet[alphabet.find(l_symbol) + counter - length].upper())\n",
    "                        else:\n",
    "                            ct.write(alphabet[alphabet.find(l_symbol) + counter - length])\n",
    "                    else:\n",
    "                        if symbol != l_symbol:\n",
    "                            ct.write(alphabet[alphabet.find(l_symbol) + counter].upper())\n",
    "                        else:\n",
    "                            ct.write(alphabet[alphabet.find(l_symbol) + counter])\n",
    "                else:\n",
    "                    ct.write(symbol)\n",
    "            \n",
    "with open('cipher_text.txt', 'r') as ct:\n",
    "    for line in ct:\n",
    "        print(line)\n",
    "        "
   ]
  },
  {
   "cell_type": "markdown",
   "id": "95013f3b",
   "metadata": {},
   "source": [
    "# 7. Tournament"
   ]
  },
  {
   "cell_type": "code",
   "execution_count": 31,
   "id": "ad8886b0",
   "metadata": {},
   "outputs": [],
   "source": [
    "information = dict()\n",
    "min_points = 0\n",
    "with open('first_tour.txt', 'r') as ft:\n",
    "    min_points = int(ft.readline())\n",
    "    for line in ft:\n",
    "        participant = line.split()\n",
    "        information[int(participant[2])] = [participant[1], participant[0]]\n",
    "\n",
    "keys = sorted(information, reverse=True)\n",
    "\n",
    "sec_tour = dict()\n",
    "counter = 0\n",
    "for i in keys:\n",
    "    if i > min_points:\n",
    "        counter += 1\n",
    "        sec_tour[counter] = [information[i][0], information[i][1], i]\n",
    "        \n",
    "\n"
   ]
  },
  {
   "cell_type": "code",
   "execution_count": null,
   "id": "56c67cce",
   "metadata": {},
   "outputs": [],
   "source": []
  }
 ],
 "metadata": {
  "kernelspec": {
   "display_name": "Python 3 (ipykernel)",
   "language": "python",
   "name": "python3"
  },
  "language_info": {
   "codemirror_mode": {
    "name": "ipython",
    "version": 3
   },
   "file_extension": ".py",
   "mimetype": "text/x-python",
   "name": "python",
   "nbconvert_exporter": "python",
   "pygments_lexer": "ipython3",
   "version": "3.10.2"
  }
 },
 "nbformat": 4,
 "nbformat_minor": 5
}
