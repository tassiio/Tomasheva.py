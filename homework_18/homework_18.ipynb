{
 "cells": [
  {
   "cell_type": "markdown",
   "id": "b83a3bbe",
   "metadata": {},
   "source": [
    "# 1. Names"
   ]
  },
  {
   "cell_type": "code",
   "execution_count": 64,
   "id": "c3515d08",
   "metadata": {},
   "outputs": [
    {
     "name": "stdout",
     "output_type": "stream",
     "text": [
      "7 string is too short.\n",
      "9 string is too short.\n",
      "10 string is too short.\n",
      "12 string is too short.\n",
      "The sum:  53\n"
     ]
    }
   ],
   "source": [
    "summa = 0\n",
    "line_number = 0\n",
    "\n",
    "with open('people.txt', 'r') as ppl:\n",
    "    with open('errors.log', 'w') as err:\n",
    "        for line in ppl:\n",
    "            line_number += 1\n",
    "            # print(len(line) - 1)\n",
    "            try:\n",
    "                check = (len(line) - 1) / ((len(line) - 1) // 3)\n",
    "            except ZeroDivisionError:\n",
    "                err.write(line)\n",
    "                print(f'{line_number} string is too short.')\n",
    "            else:\n",
    "                summa += len(line) - 1\n",
    "print('The sum: ', summa)\n"
   ]
  },
  {
   "cell_type": "markdown",
   "id": "01b40540",
   "metadata": {},
   "source": [
    "# 2. Coordinates"
   ]
  },
  {
   "cell_type": "code",
   "execution_count": null,
   "id": "86c6f39f",
   "metadata": {},
   "outputs": [],
   "source": [
    "import random\n",
    "\n",
    "\n",
    "def f(x, y):\n",
    "    x += random.randint(0, 10)\n",
    "    y += random.randint(0, 5)\n",
    "    return x / y\n",
    "\n",
    "\n",
    "def f2(x, y):\n",
    "    x -= random.randint(0, 10)\n",
    "    y -= random.randint(0, 5)\n",
    "    return y / x\n",
    "\n",
    "\n",
    "file = open('coordinates.txt', 'r')\n",
    "file_2 = open('result.txt', 'w')\n",
    "try:\n",
    "    for line in file:\n",
    "        nums_list = line.split()\n",
    "        res1 = f(int(nums_list[0]), int(nums_list[1]))\n",
    "        try:         \n",
    "            res2 = f2(int(nums_list[0]), int(nums_list[1]))\n",
    "            try:\n",
    "                number = random.randint(0, 100)\n",
    "                my_list = sorted([res1, res2, number])\n",
    "                file_2.write(' '.join(map(str, my_list)))\n",
    "                file_2.write('\\n')\n",
    "            except Exception:\n",
    "                print(\"Something went wrong.\")\n",
    "        except Exception:\n",
    "            file_2.write(\"Something went wrong.\")\n",
    "            file_2.write('\\n')\n",
    "            print(\"Something went wrong.\")\n",
    "except Exception:\n",
    "    print(\"Something went wrong.\")\n",
    "\n",
    "finally:\n",
    "    file_2.close()\n",
    "    file.close()\n"
   ]
  },
  {
   "cell_type": "markdown",
   "id": "61676841",
   "metadata": {},
   "source": [
    "# 3. Lucky number"
   ]
  },
  {
   "cell_type": "code",
   "execution_count": 31,
   "id": "48bb8329",
   "metadata": {},
   "outputs": [
    {
     "name": "stdout",
     "output_type": "stream",
     "text": [
      "Enter any number: 12\n",
      "Enter any number: 23\n",
      "Enter any number: 12\n",
      "Enter any number: 12\n",
      "Enter any number: 35\n",
      "Enter any number: 678\n",
      "Enter any number: 12\n"
     ]
    }
   ],
   "source": [
    "import random\n",
    "summa = 0\n",
    "errors = [SyntaxError, TypeError, UnicodeError, EOFError, ArithmeticError]\n",
    "with open('lucky_numb.txt', 'w') as lb:\n",
    "    while summa < 777:\n",
    "        number = int(input('Enter any number: '))\n",
    "        summa += number\n",
    "        if not random.choices([1, 0], [12/13, 1/13])[0]:\n",
    "            raise Exception(random.choices(errors))\n",
    "        lb.write(str(number) + '\\n')\n"
   ]
  },
  {
   "cell_type": "markdown",
   "id": "19158371",
   "metadata": {},
   "source": [
    "# 4. Registration"
   ]
  },
  {
   "cell_type": "code",
   "execution_count": 47,
   "id": "3dd6bd6c",
   "metadata": {},
   "outputs": [],
   "source": [
    "\n",
    "\n",
    "def check(user):\n",
    "    if len(user) < 3 or int(user[2]) < 10 or int(user[2]) > 99:\n",
    "        raise ValueError\n",
    "    elif not user[0].isalpha():\n",
    "        raise NameError\n",
    "    elif user[1].find('.') == -1 or user[1].find('@') == -1:\n",
    "        raise SyntaxError\n",
    "\n",
    "\n",
    "with open('registrations.txt', 'r') as rg:\n",
    "    with open('registrations_good.log', 'w') as good:\n",
    "        with open('registrations_bad.log', 'w') as bad:\n",
    "            for line in rg:\n",
    "                data = line.split()\n",
    "                try:\n",
    "                    ccheck = check(data)\n",
    "                    # print(ccheck)\n",
    "                except ValueError:\n",
    "                    bad.write(' '.join(map(str, data)))\n",
    "                    bad.write('\\n')\n",
    "                except NameError:\n",
    "                    bad.write(' '.join(map(str, data)))\n",
    "                    bad.write('\\n')\n",
    "                except SyntaxError:\n",
    "                    bad.write(' '.join(map(str, data)))\n",
    "                    bad.write('\\n')\n",
    "                else:\n",
    "                    good.write(' '.join(map(str, data)))\n",
    "                    good.write('\\n')\n",
    "                "
   ]
  },
  {
   "cell_type": "markdown",
   "id": "02cf7f05",
   "metadata": {},
   "source": [
    "# 5. Text calculator"
   ]
  },
  {
   "cell_type": "code",
   "execution_count": 14,
   "id": "82c5f2d9",
   "metadata": {},
   "outputs": [
    {
     "name": "stdout",
     "output_type": "stream",
     "text": [
      "['1000', '-', '7']\n",
      "993\n",
      "['100', '+', '34']\n",
      "134\n",
      "['10', '+*', '3']\n",
      "Something wrong with the operation.\n",
      "['23', '/', '4']\n",
      "5.75\n",
      "['100', '%', '3']\n",
      "1\n",
      "['smth']\n",
      "Check types.\n",
      "['1000', '//', '500']\n",
      "2\n",
      "['10', '/', '0']\n",
      "Division by zero.\n",
      "Sum = 1135.750\n"
     ]
    }
   ],
   "source": [
    "class Error(Exception):\n",
    "    pass\n",
    "\n",
    "\n",
    "class OperationNotFound(Error):\n",
    "    pass\n",
    "\n",
    "\n",
    "def calc(components):\n",
    "    if components[1] == '+':\n",
    "        return int(components[0]) + int(components[2])\n",
    "    if components[1] == '-':\n",
    "        return int(components[0]) - int(components[2])\n",
    "    if components[1] == '*':\n",
    "        return int(components[0]) * int(components[2])\n",
    "    if components[1] == '**':\n",
    "        return pow(int(components[0]), int(components[2]))\n",
    "    if components[1] == '^':\n",
    "        return pow(int(components[0]), int(components[2]))\n",
    "    if components[1] == '/':\n",
    "        return int(components[0]) / int(components[2])\n",
    "    if components[1] == '//':\n",
    "        return int(components[0]) // int(components[2])\n",
    "    if components[1] == '%':\n",
    "        return int(components[0]) % int(components[2])\n",
    "\n",
    "\n",
    "summa = 0\n",
    "# arithm_operations = ['+', '-', '*', '**', '^', '/', '//', '%']\n",
    "with open('text_calc.txt', 'r') as tc:\n",
    "    for line in tc:\n",
    "        items = line.split()\n",
    "        print(items)\n",
    "        try:\n",
    "            items[0] = int(items[0])\n",
    "            items[2] = int(items[2])\n",
    "        except TypeError:\n",
    "            print('Check types.')\n",
    "        except ValueError:\n",
    "            print('Check types.')\n",
    "        else:\n",
    "            try:\n",
    "                result = calc(items)\n",
    "                if result == None:\n",
    "                    raise OperationNotFound\n",
    "                print(result)\n",
    "            except ZeroDivisionError:\n",
    "                print('Division by zero.')\n",
    "            except OperationNotFound:\n",
    "                print('Something wrong with the operation.')\n",
    "            else:\n",
    "                summa += result\n",
    "       \n",
    "print(f'Sum = {summa:.{3}f}')           \n",
    "    "
   ]
  },
  {
   "cell_type": "markdown",
   "id": "88c80639",
   "metadata": {},
   "source": [
    "# 6. Chat"
   ]
  },
  {
   "cell_type": "code",
   "execution_count": 34,
   "id": "83ede749",
   "metadata": {},
   "outputs": [
    {
     "name": "stdout",
     "output_type": "stream",
     "text": [
      "Enter you nickname.\n",
      "usr\n",
      "What do you want to do? r - read all the messages, s - send a message, l - leave the chat \n",
      "r\n",
      "usr : hello everyone\n",
      "\n",
      "What do you want to do? r - read all the messages, s - send a message, l - leave the chat \n",
      "s\n",
      "usr: -> :(\n",
      "What do you want to do? r - read all the messages, s - send a message, l - leave the chat \n",
      "l\n",
      "You are leaving the chat.\n"
     ]
    }
   ],
   "source": [
    "class Error(Exception):\n",
    "    pass\n",
    "\n",
    "\n",
    "# class EmptyFile(Error):\n",
    "#    pass\n",
    "\n",
    "\n",
    "class ProblemWithFile(Error):\n",
    "    pass\n",
    "\n",
    "\n",
    "nickname = input(\"Enter you nickname.\\n\")\n",
    "action = 'nothing'\n",
    "while action != 'l':\n",
    "    action = input(\"What do you want to do? r - read all the messages, s - send a message, l - leave the chat \\n\")\n",
    "    if action == 'l':\n",
    "        print('You are leaving the chat.')\n",
    "    elif action == 'r':\n",
    "        try:\n",
    "            with open('chat_info.txt', 'r', encoding='utf-8') as ch:\n",
    "                for line in ch:\n",
    "                    print(line)\n",
    "        except FileNotFoundError:\n",
    "            print('The chat is empty.')\n",
    "    elif action == 's':\n",
    "        try:\n",
    "            with open('chat_info.txt', 'a', encoding='utf-8') as cht:\n",
    "                message = input(f'{nickname}: -> ')\n",
    "                cht.write(nickname + ' : ' + message + '\\n')\n",
    "        except ProblemWithFile:\n",
    "            print('Smth wrong with the chat.')        \n"
   ]
  },
  {
   "cell_type": "markdown",
   "id": "8c058525",
   "metadata": {},
   "source": [
    "# 7. Text calculator improved"
   ]
  },
  {
   "cell_type": "code",
   "execution_count": 21,
   "id": "c4058477",
   "metadata": {},
   "outputs": [
    {
     "name": "stdout",
     "output_type": "stream",
     "text": [
      "['1000', '-', '7']\n",
      "993\n",
      "['100', '+', '34']\n",
      "134\n",
      "['10', '+*', '3']\n",
      "Something wrong with the operation here: 10 +* 3\n",
      "\n",
      "Do you want to correct the mistake?\n",
      "Yes\n",
      "Enter the new version:\n",
      "10 + 3\n",
      "13\n",
      "['23', '/', '4']\n",
      "5.75\n",
      "['100', '%', '3']\n",
      "1\n",
      "['smth']\n",
      "Check types.\n",
      "['1000', '//', '500']\n",
      "2\n",
      "['10', '/', '0']\n",
      "Division by zero.\n",
      "Sum = 1148.750\n"
     ]
    }
   ],
   "source": [
    "class Error(Exception):\n",
    "    pass\n",
    "\n",
    "\n",
    "class OperationNotFound(Error):\n",
    "    pass\n",
    "\n",
    "\n",
    "def calc(components):\n",
    "    if components[1] == '+':\n",
    "        return int(components[0]) + int(components[2])\n",
    "    if components[1] == '-':\n",
    "        return int(components[0]) - int(components[2])\n",
    "    if components[1] == '*':\n",
    "        return int(components[0]) * int(components[2])\n",
    "    if components[1] == '**':\n",
    "        return pow(int(components[0]), int(components[2]))\n",
    "    if components[1] == '^':\n",
    "        return pow(int(components[0]), int(components[2]))\n",
    "    if components[1] == '/':\n",
    "        return int(components[0]) / int(components[2])\n",
    "    if components[1] == '//':\n",
    "        return int(components[0]) // int(components[2])\n",
    "    if components[1] == '%':\n",
    "        return int(components[0]) % int(components[2])\n",
    "\n",
    "\n",
    "summa = 0\n",
    "# arithm_operations = ['+', '-', '*', '**', '^', '/', '//', '%']\n",
    "with open('text_calc.txt', 'r') as tc:\n",
    "    for line in tc:\n",
    "        items = line.split()\n",
    "        print(items)\n",
    "        try:\n",
    "            items[0] = int(items[0])\n",
    "            items[2] = int(items[2])\n",
    "        except TypeError:\n",
    "            print('Check types.')\n",
    "        except ValueError:\n",
    "            print('Check types.')\n",
    "        else:\n",
    "            try:\n",
    "                result = calc(items)\n",
    "                if result == None:\n",
    "                    raise OperationNotFound\n",
    "                print(result)\n",
    "            except ZeroDivisionError:\n",
    "                print('Division by zero.')\n",
    "            except OperationNotFound:\n",
    "                print('Something wrong with the operation here:', line)\n",
    "                answer = input('Do you want to correct the mistake?\\n')\n",
    "                if answer == 'Yes':\n",
    "                    items_cor = input(\"Enter the new version:\\n\").split()\n",
    "                    items_cor[0] = int(items_cor[0])\n",
    "                    items_cor[2] = int(items_cor[2])\n",
    "                    result = calc(items_cor)\n",
    "                    print(result)\n",
    "                    summa += result\n",
    "            else:\n",
    "                summa += result\n",
    "       \n",
    "print(f'Sum = {summa:.{3}f}')           \n",
    "    "
   ]
  },
  {
   "cell_type": "code",
   "execution_count": null,
   "id": "13c0af75",
   "metadata": {},
   "outputs": [],
   "source": []
  }
 ],
 "metadata": {
  "kernelspec": {
   "display_name": "Python 3 (ipykernel)",
   "language": "python",
   "name": "python3"
  },
  "language_info": {
   "codemirror_mode": {
    "name": "ipython",
    "version": 3
   },
   "file_extension": ".py",
   "mimetype": "text/x-python",
   "name": "python",
   "nbconvert_exporter": "python",
   "pygments_lexer": "ipython3",
   "version": "3.10.2"
  }
 },
 "nbformat": 4,
 "nbformat_minor": 5
}
